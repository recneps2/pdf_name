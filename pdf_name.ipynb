{
  "nbformat": 4,
  "nbformat_minor": 0,
  "metadata": {
    "colab": {
      "name": "pdf_name",
      "provenance": [],
      "history_visible": true,
      "authorship_tag": "ABX9TyP5jJI5WeJ3FrKZDF0/ARcD"
    },
    "kernelspec": {
      "name": "python3",
      "display_name": "Python 3"
    },
    "language_info": {
      "name": "python"
    }
  },
  "cells": [
    {
      "cell_type": "code",
      "metadata": {
        "colab": {
          "base_uri": "https://localhost:8080/"
        },
        "id": "coKnVsuNq_Kj",
        "outputId": "1390fd72-3951-48ed-d05c-b86139ef74af"
      },
      "source": [
        "!pip install PyPDF2\n"
      ],
      "execution_count": null,
      "outputs": [
        {
          "output_type": "stream",
          "name": "stdout",
          "text": [
            "Requirement already satisfied: PyPDF2 in /usr/local/lib/python3.7/dist-packages (1.26.0)\n"
          ]
        }
      ]
    },
    {
      "cell_type": "code",
      "metadata": {
        "id": "i9UkjykmpFKs"
      },
      "source": [
        "\n",
        "import os\n",
        "import string\n",
        "import PyPDF2\n",
        "\n",
        "# Modify this directory\n",
        "pdf_dir = '/content/pdf_name_test'\n",
        "\n",
        "# Iterate over each file in the directory\n",
        "for filename in os.listdir(pdf_dir):\n",
        "    full_name = os.path.join(pdf_dir, filename)\n",
        "    # Open each file and read it using PyPDF2\n",
        "    f = open(full_name, \"rb\")\n",
        "    pdf = PyPDF2.PdfFileReader(f)\n",
        "    title = str(pdf.getDocumentInfo().title) + '.pdf'\n",
        "    # title = pdf.getOutlines()[0].title + '.pdf'\n",
        "    f.close()\n",
        "    # Only allow valid characters in the string\n",
        "    valid = \"-_.() %s%s\" % (string.ascii_letters, string.digits)\n",
        "    new_filename = ''.join(c for c in title if c in valid)\n",
        "    # Make sure the filename is unique\n",
        "    if os.path.exists(os.path.join(pdf_dir, new_filename)):\n",
        "        base, ext = os.path.splitext(new_filename)\n",
        "        ii = 1\n",
        "        while os.path.exists(os.path.join(pdf_dir,base + \"_\" + str(ii) + ext)):\n",
        "            ii += 1\n",
        "        new_filename = base + \"_\" + str(ii) + ext\n",
        "    # Rename the file\n",
        "    full_new = os.path.join(pdf_dir, new_filename)\n",
        "    os.rename(full_name, full_new)"
      ],
      "execution_count": null,
      "outputs": []
    }
  ]
}