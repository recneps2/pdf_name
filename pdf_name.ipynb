{
  "nbformat": 4,
  "nbformat_minor": 0,
  "metadata": {
    "colab": {
      "name": "pdf_name",
      "provenance": [],
      "history_visible": true,
      "authorship_tag": "ABX9TyNGz8eMBwEf39rpu+N/01qO"
    },
    "kernelspec": {
      "name": "python3",
      "display_name": "Python 3"
    },
    "language_info": {
      "name": "python"
    }
  },
  "cells": [
    {
      "cell_type": "code",
      "metadata": {
        "colab": {
          "base_uri": "https://localhost:8080/"
        },
        "id": "coKnVsuNq_Kj",
        "outputId": "1390fd72-3951-48ed-d05c-b86139ef74af"
      },
      "source": [
        "!pip install PyPDF2\n"
      ],
      "execution_count": null,
      "outputs": [
        {
          "output_type": "stream",
          "name": "stdout",
          "text": [
            "Requirement already satisfied: PyPDF2 in /usr/local/lib/python3.7/dist-packages (1.26.0)\n"
          ]
        }
      ]
    },
    {
      "cell_type": "code",
      "metadata": {
        "colab": {
          "base_uri": "https://localhost:8080/",
          "height": 234
        },
        "id": "i9UkjykmpFKs",
        "outputId": "51b1ac84-0564-4537-f933-268baa0b3f97"
      },
      "source": [
        "\n",
        "import os\n",
        "import string\n",
        "import PyPDF2\n",
        "\n",
        "# Modify this directory\n",
        "pdf_dir = '/content/pdf_name_test'\n",
        "\n",
        "# Iterate over each file in the directory\n",
        "for filename in os.listdir(pdf_dir):\n",
        "    full_name = os.path.join(pdf_dir, filename)\n",
        "    # Open each file and read it using PyPDF2\n",
        "    f = open(full_name, \"rb\")\n",
        "    pdf = PyPDF2.PdfFileReader(f)\n",
        "    title = str(pdf.getDocumentInfo().title) + '.pdf'\n",
        "    # title = pdf.getOutlines()[0].title + '.pdf'\n",
        "    f.close()\n",
        "    # Only allow valid characters in the string\n",
        "    valid = \"-_.() %s%s\" % (string.ascii_letters, string.digits)\n",
        "    new_filename = ''.join(c for c in title if c in valid)\n",
        "    # Make sure the filename is unique\n",
        "    if os.path.exists(os.path.join(pdf_dir, new_filename)):\n",
        "        base, ext = os.path.splitext(new_filename)\n",
        "        ii = 1\n",
        "        while os.path.exists(os.path.join(pdf_dir,base + \"_\" + str(ii) + ext)):\n",
        "            ii += 1\n",
        "        new_filename = base + \"_\" + str(ii) + ext\n",
        "    # Rename the file\n",
        "    full_new = os.path.join(pdf_dir, new_filename)\n",
        "    os.rename(full_name, full_new)"
      ],
      "execution_count": 21,
      "outputs": [
        {
          "output_type": "error",
          "ename": "IsADirectoryError",
          "evalue": "ignored",
          "traceback": [
            "\u001b[0;31m---------------------------------------------------------------------------\u001b[0m",
            "\u001b[0;31mIsADirectoryError\u001b[0m                         Traceback (most recent call last)",
            "\u001b[0;32m<ipython-input-21-25c16afe1351>\u001b[0m in \u001b[0;36m<module>\u001b[0;34m()\u001b[0m\n\u001b[1;32m     11\u001b[0m     \u001b[0mfull_name\u001b[0m \u001b[0;34m=\u001b[0m \u001b[0mos\u001b[0m\u001b[0;34m.\u001b[0m\u001b[0mpath\u001b[0m\u001b[0;34m.\u001b[0m\u001b[0mjoin\u001b[0m\u001b[0;34m(\u001b[0m\u001b[0mpdf_dir\u001b[0m\u001b[0;34m,\u001b[0m \u001b[0mfilename\u001b[0m\u001b[0;34m)\u001b[0m\u001b[0;34m\u001b[0m\u001b[0;34m\u001b[0m\u001b[0m\n\u001b[1;32m     12\u001b[0m     \u001b[0;31m# Open each file and read it using PyPDF2\u001b[0m\u001b[0;34m\u001b[0m\u001b[0;34m\u001b[0m\u001b[0;34m\u001b[0m\u001b[0m\n\u001b[0;32m---> 13\u001b[0;31m     \u001b[0mf\u001b[0m \u001b[0;34m=\u001b[0m \u001b[0mopen\u001b[0m\u001b[0;34m(\u001b[0m\u001b[0mfull_name\u001b[0m\u001b[0;34m,\u001b[0m \u001b[0;34m\"rb\"\u001b[0m\u001b[0;34m)\u001b[0m\u001b[0;34m\u001b[0m\u001b[0;34m\u001b[0m\u001b[0m\n\u001b[0m\u001b[1;32m     14\u001b[0m     \u001b[0mpdf\u001b[0m \u001b[0;34m=\u001b[0m \u001b[0mPyPDF2\u001b[0m\u001b[0;34m.\u001b[0m\u001b[0mPdfFileReader\u001b[0m\u001b[0;34m(\u001b[0m\u001b[0mf\u001b[0m\u001b[0;34m)\u001b[0m\u001b[0;34m\u001b[0m\u001b[0;34m\u001b[0m\u001b[0m\n\u001b[1;32m     15\u001b[0m     \u001b[0mtitle\u001b[0m \u001b[0;34m=\u001b[0m \u001b[0mstr\u001b[0m\u001b[0;34m(\u001b[0m\u001b[0mpdf\u001b[0m\u001b[0;34m.\u001b[0m\u001b[0mgetDocumentInfo\u001b[0m\u001b[0;34m(\u001b[0m\u001b[0;34m)\u001b[0m\u001b[0;34m.\u001b[0m\u001b[0mtitle\u001b[0m\u001b[0;34m)\u001b[0m \u001b[0;34m+\u001b[0m \u001b[0;34m'.pdf'\u001b[0m\u001b[0;34m\u001b[0m\u001b[0;34m\u001b[0m\u001b[0m\n",
            "\u001b[0;31mIsADirectoryError\u001b[0m: [Errno 21] Is a directory: '/content/pdf_name_test/.ipynb_checkpoints'"
          ]
        }
      ]
    },
    {
      "cell_type": "code",
      "metadata": {
        "id": "prTtVI_1tBM9"
      },
      "source": [
        "from google.colab import drive\n",
        "drive.mount('/content/drive')"
      ],
      "execution_count": null,
      "outputs": []
    }
  ]
}